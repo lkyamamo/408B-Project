{
 "cells": [
  {
   "cell_type": "code",
   "execution_count": 1,
   "metadata": {},
   "outputs": [
    {
     "name": "stderr",
     "output_type": "stream",
     "text": [
      "2024-04-15 18:42:10.582977: I tensorflow/core/util/port.cc:113] oneDNN custom operations are on. You may see slightly different numerical results due to floating-point round-off errors from different computation orders. To turn them off, set the environment variable `TF_ENABLE_ONEDNN_OPTS=0`.\n",
      "2024-04-15 18:42:10.639956: I tensorflow/core/platform/cpu_feature_guard.cc:210] This TensorFlow binary is optimized to use available CPU instructions in performance-critical operations.\n",
      "To enable the following instructions: AVX2 AVX512F AVX512_VNNI FMA, in other operations, rebuild TensorFlow with the appropriate compiler flags.\n",
      "2024-04-15 18:42:12.100693: W tensorflow/compiler/tf2tensorrt/utils/py_utils.cc:38] TF-TRT Warning: Could not find TensorRT\n"
     ]
    }
   ],
   "source": [
    "import scipy.io\n",
    "import os\n",
    "import tensorflow as tf\n",
    "import model"
   ]
  },
  {
   "cell_type": "code",
   "execution_count": 2,
   "metadata": {},
   "outputs": [],
   "source": [
    "working_dir = os.getcwd()\n",
    "\n",
    "file_path = os.path.join(working_dir, 'jaxpi', 'examples', 'allen_cahn','data', 'allen_cahn.mat')\n",
    "\n",
    "data = scipy.io.loadmat(file_path)\n",
    "\n",
    "# get data for model\n",
    "x = data['x'].flatten()\n",
    "t = data['t'].flatten()\n",
    "usol = data['usol']"
   ]
  },
  {
   "cell_type": "code",
   "execution_count": 3,
   "metadata": {},
   "outputs": [
    {
     "name": "stdout",
     "output_type": "stream",
     "text": [
      "Shape of Data\n",
      "t: (201,)\n",
      "x: (512,)\n",
      "usol: (201, 512)\n",
      "t_initial: (512,)\n",
      "x_initial: (512,)\n",
      "usol_initial: (512,)\n",
      "x_train: (102912,)\n",
      "t_train: (102912,)\n",
      "usol_train: (102912,)\n",
      "negative_bound: (201, 2)\n",
      "positive_bound: (201, 2)\n"
     ]
    }
   ],
   "source": [
    "pinn = model.ConventionalAllenCahnPINN(t,x,usol)"
   ]
  },
  {
   "cell_type": "code",
   "execution_count": 4,
   "metadata": {},
   "outputs": [
    {
     "name": "stdout",
     "output_type": "stream",
     "text": [
      "Epoch 1\n",
      "Calculating Loss Value\n",
      "Updating Weights\n",
      "Epoch 2\n",
      "Calculating Loss Value\n",
      "Updating Weights\n",
      "Epoch 3\n",
      "Calculating Loss Value\n",
      "Updating Weights\n",
      "Epoch 4\n",
      "Calculating Loss Value\n",
      "Updating Weights\n",
      "Epoch 5\n",
      "Calculating Loss Value\n",
      "Updating Weights\n"
     ]
    }
   ],
   "source": [
    "pinn.train(5)"
   ]
  },
  {
   "cell_type": "code",
   "execution_count": 5,
   "metadata": {},
   "outputs": [
    {
     "name": "stdout",
     "output_type": "stream",
     "text": [
      "[0.18669761717319489, 1.9580104351043701, 0.295651912689209, 0.2488034963607788, 0.5899108648300171]\n"
     ]
    }
   ],
   "source": [
    "print(pinn.losses['total_loss'])"
   ]
  },
  {
   "cell_type": "code",
   "execution_count": null,
   "metadata": {},
   "outputs": [],
   "source": []
  }
 ],
 "metadata": {
  "kernelspec": {
   "display_name": "Python 3",
   "language": "python",
   "name": "python3"
  },
  "language_info": {
   "codemirror_mode": {
    "name": "ipython",
    "version": 3
   },
   "file_extension": ".py",
   "mimetype": "text/x-python",
   "name": "python",
   "nbconvert_exporter": "python",
   "pygments_lexer": "ipython3",
   "version": "3.10.12"
  }
 },
 "nbformat": 4,
 "nbformat_minor": 2
}
